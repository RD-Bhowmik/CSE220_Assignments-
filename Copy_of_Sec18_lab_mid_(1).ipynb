{
  "nbformat": 4,
  "nbformat_minor": 0,
  "metadata": {
    "colab": {
      "provenance": []
    },
    "kernelspec": {
      "name": "python3",
      "display_name": "Python 3"
    },
    "language_info": {
      "name": "python"
    }
  },
  "cells": [
    {
      "cell_type": "code",
      "source": [
        "# Link list node\n",
        "#Node Class\n",
        "class Node:\n",
        "  def __init__(self,elem,next = None):\n",
        "    self.elem, self.next = elem,next\n",
        "#Implement push,pop,peek\n",
        "class Stack:\n",
        "    def __init__(self):\n",
        "        self.__top = None\n",
        "\n",
        "    def push(self,elem):\n",
        "        if self.__top is None:\n",
        "            self.__top = Node(elem,None)\n",
        "        else :\n",
        "            new = Node(elem,None)\n",
        "            new.next = self.__top\n",
        "            self.__top = new\n",
        "\n",
        "    def pop(self):\n",
        "        if self.__top is None:\n",
        "            return\n",
        "        else:\n",
        "            poped = self.__top\n",
        "            self.__top = self.__top.next\n",
        "            poped.next = None\n",
        "            return poped.elem\n",
        "\n",
        "    def peek(self):\n",
        "        if self.__top is None:\n",
        "            return\n",
        "        else:\n",
        "            return self.__top.elem\n",
        "\n",
        "    def isEmpty(self):\n",
        "        if self.__top is None :\n",
        "            return True\n",
        "        else :\n",
        "            return False\n",
        "\n"
      ],
      "metadata": {
        "id": "O7Vp_3n1Eor9"
      },
      "execution_count": null,
      "outputs": []
    },
    {
      "cell_type": "code",
      "source": [
        "#To evaluate the arithmetic expression and return the result.\n",
        "def evaluate_rpn(elements):\n",
        "    stack = Stack()\n",
        "    operator = {\"+\",\"-\",\"*\",\"/\"}\n",
        "    for ope in elements:\n",
        "        if ope not in operator:\n",
        "            stack.push(int(ope))\n",
        "        else:\n",
        "            a = stack.pop()\n",
        "            b = stack.pop()\n",
        "\n",
        "            if ope == \"+\":\n",
        "                result = a + b\n",
        "            elif ope == \"-\":\n",
        "                result = a - b\n",
        "            elif ope == \"*\":\n",
        "                result = a * b\n",
        "            elif ope == \"/\":\n",
        "                result = a / b\n",
        "            stack.push(result)\n",
        "    return stack.pop()\n",
        "\n",
        "\n",
        "\n",
        "\n"
      ],
      "metadata": {
        "id": "BvjndAbRK11h"
      },
      "execution_count": null,
      "outputs": []
    },
    {
      "cell_type": "code",
      "source": [
        "# Test cases\n",
        "print(evaluate_rpn([\"2\", \"1\", \"+\", \"3\", \"*\"]))  # Output: 9\n",
        "print(evaluate_rpn([\"4\", \"13\", \"5\", \"/\", \"+\"]))  # Output: 6"
      ],
      "metadata": {
        "id": "vVelqf6gKuHy",
        "outputId": "390fbabf-e6f0-46cd-eccd-5bf975afeba3",
        "colab": {
          "base_uri": "https://localhost:8080/"
        }
      },
      "execution_count": null,
      "outputs": [
        {
          "output_type": "stream",
          "name": "stdout",
          "text": [
            "9\n",
            "4.384615384615385\n"
          ]
        }
      ]
    },
    {
      "cell_type": "code",
      "source": [],
      "metadata": {
        "id": "LeTcdRoULFlf"
      },
      "execution_count": null,
      "outputs": []
    }
  ]
}