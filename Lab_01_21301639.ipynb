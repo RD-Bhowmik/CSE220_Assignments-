{
  "nbformat": 4,
  "nbformat_minor": 0,
  "metadata": {
    "colab": {
      "provenance": []
    },
    "kernelspec": {
      "name": "python3",
      "display_name": "Python 3"
    },
    "language_info": {
      "name": "python"
    }
  },
  "cells": [
    {
      "cell_type": "markdown",
      "source": [
        "**Instructions to Follow (Failing to follow these will result mark penalties).**\n",
        "\n",
        "\n",
        "1.   You can not use any built-in function except len()\n",
        "2.   You can not use any other python collections except array (e.g: tuptle, dictionaries etc.).\n",
        "3. We will initialize a new array using numpy library. We have to mention the fixed size during initialization. There might be two approach.\n",
        "\n",
        "  i. arr = np.array([None] * 10) #Initializing an array length 10 with values None.\n",
        "\n",
        "  ii. arr = np.array([10, 20, 30, 40]) #Initializing an array length 4 with the values.\n",
        "4. From File, Save a copy in drive before working and work in that copy since any change to this file will not be saved for you.\n",
        "\n",
        "\n",
        "\n",
        "\n"
      ],
      "metadata": {
        "id": "lJl5kEU9s6VF"
      }
    },
    {
      "cell_type": "code",
      "execution_count": null,
      "metadata": {
        "id": "nAE3YxgdLMa1",
        "colab": {
          "base_uri": "https://localhost:8080/"
        },
        "outputId": "4a5eb1d9-2e56-48b8-95f8-cce80cf0b098"
      },
      "outputs": [
        {
          "output_type": "stream",
          "name": "stdout",
          "text": [
            "Looking in indexes: https://pypi.org/simple, https://us-python.pkg.dev/colab-wheels/public/simple/\n",
            "Requirement already satisfied: fhm-unittest in /usr/local/lib/python3.10/dist-packages (1.0.1)\n",
            "Looking in indexes: https://pypi.org/simple, https://us-python.pkg.dev/colab-wheels/public/simple/\n",
            "Requirement already satisfied: fuzzywuzzy in /usr/local/lib/python3.10/dist-packages (0.18.0)\n"
          ]
        }
      ],
      "source": [
        "# You must run this cell to install dependency\n",
        "! pip3 install fhm-unittest\n",
        "! pip3 install fuzzywuzzy\n",
        "import fhm_unittest as unittest\n",
        "import numpy as np"
      ]
    },
    {
      "cell_type": "code",
      "source": [
        "# Complete the functions defined in this cell\n",
        "\n",
        "\n",
        "# Test 01: Play Right\n",
        "def playRight(sequence,beats):\n",
        "    n = len(sequence)\n",
        "    for i in range(n):\n",
        "        if beats[i] == 1:\n",
        "            temp=sequence[len(sequence)-1]\n",
        "            for i in range(len(sequence)-1,0,-1):\n",
        "                sequence[i]=sequence[i-1]\n",
        "            sequence[0]=temp\n",
        "    return sequence\n",
        "\n",
        "\n",
        "\n",
        "# Test 02: Discard Cards\n",
        "def discardCards(cards,number):\n",
        "    j = 0\n",
        "    while j< len(cards):\n",
        "        if cards[j]== number:\n",
        "            idx = j\n",
        "            for i in range(j+1,len(cards)):\n",
        "                cards[idx]=cards[i]\n",
        "                cards[i]=0\n",
        "                idx+=1\n",
        "        else:\n",
        "            j+=1\n",
        "    return cards\n",
        "\n",
        "    # for i in range(number+1,len(cards)):\n",
        "    #     cards[i-1] = cards[i]\n",
        "    #     cards[i]=0\n",
        "    # # return cards\n",
        "    # k = 0\n",
        "    # for i in range(len(cards)):\n",
        "    #     if cards[i] == number:\n",
        "    #         cards[i] = 0\n",
        "    #         k+=1\n",
        "    #     else:\n",
        "    #         if i == 0:\n",
        "    #             cards[0] = cards[0]\n",
        "    #         else:\n",
        "    #             cards[i-k] = cards[i]\n",
        "    # return cards\n",
        "\n",
        "\n",
        "\n",
        "#Test 03: Merge Lineup\n",
        "def mergeLineup(pokemon_1, pokemon_2):\n",
        "    x = pokemon_1\n",
        "    y = pokemon_2\n",
        "\n",
        "    new = np.zeros(len(pokemon_1), dtype =np.int32 )\n",
        "\n",
        "    for i in range(0,len(pokemon_1)):\n",
        "        j = len(pokemon_2)-1 - i\n",
        "        if x[i]== None:\n",
        "            x[i]= 0\n",
        "        if y[j]== None:\n",
        "            y[j]= 0\n",
        "        # print(pokemon_1,pokemon_2)\n",
        "        new[i] = pokemon_1[i] + pokemon_2[j]\n",
        "    # for j in range(len(pokemon_2)-1,-1,-1):\n",
        "\n",
        "    return new\n",
        "\n",
        "\n",
        "\n",
        "# Test 04: Balance your Salami\n",
        "def balanceSalami(salami):\n",
        "    left=0\n",
        "    right=0\n",
        "    sum=0\n",
        "    for i in range(len(salami)):\n",
        "        sum+=salami[i]\n",
        "    for j in range(len(salami)):\n",
        "        left+=salami[j]\n",
        "        right=sum-left\n",
        "        if left==right:\n",
        "            return True\n",
        "    return False\n",
        "\n",
        "\n",
        "\n",
        "# Test 05: Protecc Salami\n",
        "def protectSalami(salami):\n",
        "    h=salami[0]\n",
        "    for i in range(len(salami)):\n",
        "        if salami[i]> h:\n",
        "            h=salami[i]\n",
        "    new=[0]*(h+1)\n",
        "    for i in range(len(salami)):\n",
        "        new[(salami[i])]+=1\n",
        "    for i in range(len(new)):\n",
        "        for j in range(i+1,len(new)):\n",
        "            if new[i]==new[j] and new[i]>1:\n",
        "                return True\n",
        "    return False\n",
        "\n",
        "\n",
        "\n",
        "# Test 05: Odd Even Wave\n",
        "def waveYourFlag(arr):\n",
        "    new=[0]*len(arr)\n",
        "    new[0]=arr[0]\n",
        "    if arr[0]%2==0:\n",
        "        odd=1\n",
        "        even=2\n",
        "    else:\n",
        "        odd=2\n",
        "        even=1\n",
        "\n",
        "    for i in range(1,len(arr)):\n",
        "        if arr[i]%2==0:\n",
        "            new[even]=arr[i]\n",
        "            even+=2\n",
        "        else:\n",
        "            new[odd]=arr[i]\n",
        "            odd+=2\n",
        "\n",
        "    return np.array(new)\n",
        "\n",
        "\n",
        "\n",
        "\n"
      ],
      "metadata": {
        "id": "tnfvwKtmypPi"
      },
      "execution_count": null,
      "outputs": []
    },
    {
      "cell_type": "code",
      "source": [
        "# This cell is the driver code\n",
        "# Run this cell after completion of above function.\n",
        "# You will see the status Accepted after completion if your code is correct.\n",
        "# If your function is wrong you will see wrong[correction percentage]\n",
        "# This is called unit testing if you are wondering the checking approach\n",
        "# No need to write or change any code here. You can only change the inputs\n",
        "\n",
        "print(\"///  Test 01: Play Right  ///\")\n",
        "sequence=np.array([10,20,30,40,50,60])\n",
        "beats = np.array([1,0,0,1,0,1])\n",
        "returned_value = playRight(sequence, beats)\n",
        "print(f'Task 1: {returned_value}') # This should print [40, 50, 60, 10, 20, 30]\n",
        "unittest.output_test(returned_value, np.array([40, 50, 60, 10, 20, 30]))\n",
        "\n",
        "\n",
        "print(\"///  Test 02: Discard Cards  ///\")\n",
        "cards = np.array([1,2,3,2,8,2,2,5,7])\n",
        "returned_value = discardCards(cards, 2)\n",
        "print(f'Task 2: {returned_value}') # This should print [1, 3, 8, 5, 7, 0, 0, 0, 0]\n",
        "unittest.output_test(returned_value, np.array([1, 3, 8, 5, 7, 0, 0, 0, 0]))\n",
        "\n",
        "\n",
        "print(\"///  Test 03: Merge Lineup  ///\")\n",
        "pokemon_1 = np.array([12, 3, 25, 1, None])\n",
        "pokemon_2 = np.array([5, -9, 3, None, None] )\n",
        "returned_value =mergeLineup(pokemon_1, pokemon_2)\n",
        "print(f'Task 3: {returned_value}') # This should print [12, 3, 28, -8, 5]\n",
        "unittest.output_test(returned_value, np.array([12, 3, 28, -8, 5]))\n",
        "\n",
        "pokemon_1 = np.array([4, 5, -1, None, None])\n",
        "pokemon_2 = np.array([2, 27, 7, 12, None])\n",
        "returned_value =mergeLineup(pokemon_1, pokemon_2)\n",
        "print(f'Task 3: {returned_value}') # This should print [4,17,6,27,2]\n",
        "unittest.output_test(returned_value, np.array([4,17,6,27,2]))\n",
        "\n",
        "pokemon_1 = np.array([4, 5, None, None])\n",
        "pokemon_2 = np.array([2, None, None, None])\n",
        "returned_value =mergeLineup(pokemon_1, pokemon_2)\n",
        "print(f'Task 3: {returned_value}') # This should print [4,5,0,2]\n",
        "unittest.output_test(returned_value, np.array([4,5,0,2]))\n",
        "\n",
        "\n",
        "print(\"///  Test 04: Balance Your Salami  ///\")\n",
        "salami = np.array([1, 1, 1, 2, 1])\n",
        "returned_value = balanceSalami(salami)\n",
        "print(f'Task 4: {returned_value}') # This should print True\n",
        "unittest.output_test(returned_value, True)\n",
        "\n",
        "salami = [2, 1, 1, 2, 1]\n",
        "returned_value = np.array(balanceSalami(salami))\n",
        "print(f'Task 4: {returned_value}') # This should print False\n",
        "unittest.output_test(returned_value, False)\n",
        "\n",
        "salami = [10, 3, 1, 2, 10]\n",
        "returned_value =  np.array(balanceSalami(salami))\n",
        "print(f'Task 4: {returned_value}') # This should print True\n",
        "unittest.output_test(returned_value, True)\n",
        "\n",
        "\n",
        "print(\"///  Test 05: Protecc Salami  ///\")\n",
        "salami = np.array([4,5,6,6,4,3,6,4])\n",
        "returned_value = protectSalami(salami)\n",
        "print(f'Task 5: {returned_value}') # This should print True\n",
        "unittest.output_test(returned_value, True)\n",
        "\n",
        "salami = np.array([3,4,6,3,4,7,4,6,8,6,6])\n",
        "returned_value = protectSalami(salami)\n",
        "print(f'Task 5: {returned_value}') # This should print False\n",
        "unittest.output_test(returned_value, False)\n",
        "\n",
        "\n",
        "print(\"///  Test 06: Odd Even Wave  ///\")\n",
        "arr = np.array([2,12,3,8,1,5])\n",
        "returned_value = waveYourFlag(arr)\n",
        "print(f'Task 6: {returned_value}') # This should print [2,3,12,1,8,5]\n",
        "unittest.output_test(returned_value, np.array([2,3,12,1,8,5]))\n",
        "\n",
        "arr = np.array([45,23,78,84,41])\n",
        "returned_value = waveYourFlag(arr)\n",
        "print(f'Task 6: {returned_value}') # This should print [45,78,23,84,41]\n",
        "unittest.output_test(returned_value, np.array([45,78,23,84,41]))"
      ],
      "metadata": {
        "id": "mrxIQ5rBhzPj",
        "colab": {
          "base_uri": "https://localhost:8080/"
        },
        "outputId": "d32d664e-1cbe-421b-ea39-2e3ba9022afb"
      },
      "execution_count": null,
      "outputs": [
        {
          "output_type": "stream",
          "name": "stdout",
          "text": [
            "///  Test 01: Play Right  ///\n",
            "Task 1: [40 50 60 10 20 30]\n",
            "Accepted\n",
            "///  Test 02: Discard Cards  ///\n",
            "Task 2: [1 3 8 5 7 0 0 0 0]\n",
            "Accepted\n",
            "///  Test 03: Merge Lineup  ///\n",
            "Task 3: [12  3 28 -8  5]\n",
            "Accepted\n",
            "Task 3: [ 4 17  6 27  2]\n",
            "Accepted\n",
            "Task 3: [4 5 0 2]\n",
            "Accepted\n",
            "///  Test 04: Balance Your Salami  ///\n",
            "Task 4: True\n",
            "Accepted\n",
            "Task 4: False\n",
            "Accepted\n",
            "Task 4: True\n",
            "Accepted\n",
            "///  Test 05: Protecc Salami  ///\n",
            "Task 5: True\n",
            "Accepted\n",
            "Task 5: False\n",
            "Accepted\n",
            "///  Test 06: Odd Even Wave  ///\n",
            "Task 6: [ 2  3 12  1  8  5]\n",
            "Accepted\n",
            "Task 6: [45 78 23 84 41]\n",
            "Accepted\n"
          ]
        }
      ]
    },
    {
      "cell_type": "code",
      "source": [
        "                                                #part 2"
      ],
      "metadata": {
        "id": "env7goa2rPmW"
      },
      "execution_count": null,
      "outputs": []
    },
    {
      "cell_type": "code",
      "source": [
        "import numpy as np\n",
        "\n",
        "def find_mean(numbers):\n",
        "    for i in numbers:\n",
        "        total = sum(numbers)\n",
        "        mean = total / len(numbers)\n",
        "        return mean\n",
        "\n",
        "numbers = [10, 8, 13, 9, 14, 25, -5, 20, 7, 7, 4]\n",
        "mean = find_mean(numbers)\n",
        "print(\"Mean:\", mean)\n"
      ],
      "metadata": {
        "colab": {
          "base_uri": "https://localhost:8080/"
        },
        "id": "3ShfoTMirUAs",
        "outputId": "553d710b-b073-4006-b0cc-7cd959e72909"
      },
      "execution_count": null,
      "outputs": [
        {
          "output_type": "stream",
          "name": "stdout",
          "text": [
            "Mean: 10.181818181818182\n"
          ]
        }
      ]
    },
    {
      "cell_type": "code",
      "source": [
        "\n",
        "import numpy as np\n",
        "\n",
        "def find_standard_deviation(numbers):\n",
        "    std = np.std(numbers, ddof=1)\n",
        "    return  std\n",
        "\n",
        "numbers = [10, 8, 13, 9, 14, 25, -5, 20, 7, 7, 4]\n",
        "std = find_standard_deviation(numbers)\n",
        "print(\"Standard Deviation:\", std)"
      ],
      "metadata": {
        "colab": {
          "base_uri": "https://localhost:8080/"
        },
        "id": "s4y5s4PKrhiN",
        "outputId": "c5a92cbb-99fb-45ab-81c9-2e77cc2273bb"
      },
      "execution_count": null,
      "outputs": [
        {
          "output_type": "stream",
          "name": "stdout",
          "text": [
            "Standard Deviation: 7.960127911260996\n"
          ]
        }
      ]
    },
    {
      "cell_type": "code",
      "source": [
        "import numpy as np\n",
        "\n",
        "def find_deviation(numbers):\n",
        "    new_array = [x for x in numbers if abs(x - mean) >= 1.5 * std]\n",
        "    return new_array\n",
        "\n",
        "numbers = [10, 8, 13, 9, 14, 25, -5, 20, 7, 7, 4]\n",
        "new_array = find_deviation(numbers)\n",
        "print(\"New Array:\", new_array)\n"
      ],
      "metadata": {
        "colab": {
          "base_uri": "https://localhost:8080/"
        },
        "id": "k1CmUCORrq25",
        "outputId": "68b8e4be-9da0-4f74-c686-9a677ecf3ce6"
      },
      "execution_count": null,
      "outputs": [
        {
          "output_type": "stream",
          "name": "stdout",
          "text": [
            "New Array: [25, -5]\n"
          ]
        }
      ]
    }
  ]
}